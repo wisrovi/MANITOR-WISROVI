{
 "cells": [
  {
   "cell_type": "code",
   "execution_count": 1,
   "id": "material-surface",
   "metadata": {},
   "outputs": [],
   "source": [
    "import cv2\n",
    "\n",
    "import time"
   ]
  },
  {
   "cell_type": "code",
   "execution_count": null,
   "id": "acquired-binary",
   "metadata": {},
   "outputs": [],
   "source": []
  },
  {
   "cell_type": "code",
   "execution_count": null,
   "id": "continuing-warrior",
   "metadata": {},
   "outputs": [],
   "source": []
  },
  {
   "cell_type": "code",
   "execution_count": 2,
   "id": "resident-greece",
   "metadata": {},
   "outputs": [],
   "source": [
    "cap = cv2.VideoCapture(0)"
   ]
  },
  {
   "cell_type": "code",
   "execution_count": null,
   "id": "infinite-footage",
   "metadata": {},
   "outputs": [],
   "source": [
    "while(1):\n",
    "    "
   ]
  },
  {
   "cell_type": "markdown",
   "id": "mounted-weather",
   "metadata": {},
   "source": [
    "# MQTT"
   ]
  },
  {
   "cell_type": "markdown",
   "id": "tropical-outdoors",
   "metadata": {},
   "source": [
    "## Iniciar broker"
   ]
  },
  {
   "cell_type": "code",
   "execution_count": 11,
   "id": "provincial-norway",
   "metadata": {},
   "outputs": [],
   "source": [
    "# Subir el servicio broker: !sudo systemctl restart mosquitto"
   ]
  },
  {
   "cell_type": "code",
   "execution_count": 26,
   "id": "approximate-ladder",
   "metadata": {},
   "outputs": [],
   "source": [
    "import paho.mqtt.client as mqtt\n",
    "import paho.mqtt.publish as publish"
   ]
  },
  {
   "cell_type": "code",
   "execution_count": 4,
   "id": "preliminary-twelve",
   "metadata": {},
   "outputs": [],
   "source": [
    "BROKER_MQTT = \"192.168.0.107\" # \"mqtt.eclipse.org\"\n",
    "PORT_MQTT = 1884"
   ]
  },
  {
   "cell_type": "markdown",
   "id": "black-italian",
   "metadata": {},
   "source": [
    "## Enviar"
   ]
  },
  {
   "cell_type": "code",
   "execution_count": 32,
   "id": "suspected-classic",
   "metadata": {},
   "outputs": [],
   "source": [
    "TOPIC_PUBLISH_MQTT=\"prueba\"\n",
    "MENSAJE_ENVIAR_MQTT=\"OFF\""
   ]
  },
  {
   "cell_type": "code",
   "execution_count": 34,
   "id": "monetary-pressing",
   "metadata": {},
   "outputs": [
    {
     "data": {
      "text/plain": [
       "<paho.mqtt.client.MQTTMessageInfo at 0x7fa5b55877c0>"
      ]
     },
     "execution_count": 34,
     "metadata": {},
     "output_type": "execute_result"
    }
   ],
   "source": [
    "client = mqtt.Client(\"P1\") #create new instance\n",
    "client.connect(host=BROKER_MQTT, port=PORT_MQTT) #, keepalive=60, bind_address=\"\") #connect to broker\n",
    "client.publish(TOPIC_PUBLISH_MQTT,MENSAJE_ENVIAR_MQTT)#publish"
   ]
  },
  {
   "cell_type": "code",
   "execution_count": null,
   "id": "continental-helicopter",
   "metadata": {},
   "outputs": [],
   "source": []
  },
  {
   "cell_type": "code",
   "execution_count": null,
   "id": "systematic-pantyhose",
   "metadata": {},
   "outputs": [],
   "source": []
  },
  {
   "cell_type": "code",
   "execution_count": null,
   "id": "educational-efficiency",
   "metadata": {},
   "outputs": [],
   "source": []
  }
 ],
 "metadata": {
  "kernelspec": {
   "display_name": "Python 3",
   "language": "python",
   "name": "python3"
  },
  "language_info": {
   "codemirror_mode": {
    "name": "ipython",
    "version": 3
   },
   "file_extension": ".py",
   "mimetype": "text/x-python",
   "name": "python",
   "nbconvert_exporter": "python",
   "pygments_lexer": "ipython3",
   "version": "3.8.5"
  }
 },
 "nbformat": 4,
 "nbformat_minor": 5
}
